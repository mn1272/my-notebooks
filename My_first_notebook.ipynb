{
  "nbformat": 4,
  "nbformat_minor": 0,
  "metadata": {
    "colab": {
      "name": "My first notebook",
      "provenance": [],
      "toc_visible": true,
      "authorship_tag": "ABX9TyNdUTGszr4vknICFShE0tsa",
      "include_colab_link": true
    },
    "kernelspec": {
      "name": "python3",
      "display_name": "Python 3"
    },
    "language_info": {
      "name": "python"
    }
  },
  "cells": [
    {
      "cell_type": "markdown",
      "metadata": {
        "id": "view-in-github",
        "colab_type": "text"
      },
      "source": [
        "<a href=\"https://colab.research.google.com/github/mn1272/my-notebooks/blob/main/My_first_notebook.ipynb\" target=\"_parent\"><img src=\"https://colab.research.google.com/assets/colab-badge.svg\" alt=\"Open In Colab\"/></a>"
      ]
    },
    {
      "cell_type": "code",
      "execution_count": null,
      "metadata": {
        "id": "nI_xYkmGux7N"
      },
      "outputs": [],
      "source": [
        ""
      ]
    },
    {
      "cell_type": "code",
      "source": [
        ""
      ],
      "metadata": {
        "id": "ConK0J3Vwezw"
      },
      "execution_count": null,
      "outputs": []
    },
    {
      "cell_type": "markdown",
      "source": [
        "this is some text\n",
        "testing"
      ],
      "metadata": {
        "id": "NfnbHZPcwfak"
      }
    },
    {
      "cell_type": "markdown",
      "source": [
        "#my heading\n",
        "## heading level 2\n",
        "**bold**\n",
        "\n",
        "here is a list:\n",
        "*   List item\n",
        "*   List item\n",
        "\n",
        "\n",
        "this is a link: [mark down guide](https://www.markdownguide.org/cheat-sheet/)\n",
        "\n",
        "'''\n",
        "pring(\"hello\")\n",
        "'''\n"
      ],
      "metadata": {
        "id": "3nPm68SexQhH"
      }
    },
    {
      "cell_type": "code",
      "source": [
        "# This is some example Python code\n",
        "# These lines starting with \"#\" are \"comments\"\n",
        "# Remember \"#\" means something different in Markdown than it does in Python\n",
        "\n",
        "print(\"HELLO WORLD!\")\n",
        "\n",
        "x = 2 + 2\n",
        "print(x)"
      ],
      "metadata": {
        "colab": {
          "base_uri": "https://localhost:8080/"
        },
        "id": "THWib3_0ytAT",
        "outputId": "2fdf3afe-e5ee-4c44-c3b5-d9a3051e573b"
      },
      "execution_count": 1,
      "outputs": [
        {
          "output_type": "stream",
          "name": "stdout",
          "text": [
            "HELLO WORLD!\n",
            "4\n"
          ]
        }
      ]
    }
  ]
}